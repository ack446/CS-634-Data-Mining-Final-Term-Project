{
  "nbformat": 4,
  "nbformat_minor": 0,
  "metadata": {
    "colab": {
      "provenance": []
    },
    "kernelspec": {
      "name": "python3",
      "display_name": "Python 3"
    },
    "language_info": {
      "name": "python"
    }
  },
  "cells": [
    {
      "cell_type": "markdown",
      "source": [
        "Here's a complete solution for your final term project using a classification dataset from Kaggle. I will assume that you are using Google Colab and Google Drive for your file storage and data access. This solution will cover implementing two models: Random Forest and LSTM, along with k-fold cross-validation and performance evaluation."
      ],
      "metadata": {
        "id": "r_RBXgPsSFwG"
      }
    },
    {
      "cell_type": "markdown",
      "source": [
        "#Step 1: Set Up Google Colab with Google Drive\n",
        "First, we'll mount Google Drive to access the dataset stored there."
      ],
      "metadata": {
        "id": "SyGLQhGHSSkP"
      }
    },
    {
      "cell_type": "code",
      "source": [
        "from google.colab import drive\n",
        "drive.mount('/content/drive')"
      ],
      "metadata": {
        "colab": {
          "base_uri": "https://localhost:8080/"
        },
        "id": "v86PsSrTSA1E",
        "outputId": "d0193ee2-16de-4887-9cf1-326d59c9bc41"
      },
      "execution_count": 1,
      "outputs": [
        {
          "output_type": "stream",
          "name": "stdout",
          "text": [
            "Mounted at /content/drive\n"
          ]
        }
      ]
    },
    {
      "cell_type": "markdown",
      "source": [
        "#Step 2: Import Libraries\n",
        "Let's import all the necessary libraries for data analysis, model building, and evaluation."
      ],
      "metadata": {
        "id": "flif5c3yStn7"
      }
    },
    {
      "cell_type": "code",
      "source": [
        "import pandas as pd\n",
        "import numpy as np\n",
        "import matplotlib.pyplot as plt\n",
        "import seaborn as sns\n",
        "from sklearn.model_selection import KFold\n",
        "from sklearn.metrics import accuracy_score, precision_score, recall_score, f1_score, confusion_matrix, roc_auc_score, roc_curve\n",
        "from sklearn.ensemble import RandomForestClassifier\n",
        "from sklearn.preprocessing import StandardScaler\n",
        "from tensorflow.keras.models import Sequential\n",
        "from tensorflow.keras.layers import Dense, LSTM\n",
        "from tensorflow.keras.optimizers import Adam\n",
        "import tensorflow as tf\n"
      ],
      "metadata": {
        "id": "tUFX3KSjRh1k"
      },
      "execution_count": 2,
      "outputs": []
    },
    {
      "cell_type": "markdown",
      "source": [
        "#Step 3: Load and Preprocess the Dataset\n",
        "For this example, I will use the Heart Failure Prediction dataset from Kaggle."
      ],
      "metadata": {
        "id": "F7DMSsM7S1Bb"
      }
    },
    {
      "cell_type": "code",
      "source": [
        "# Load the dataset from Google Drive\n",
        "data_path = '/content/drive/MyDrive/heart_csv/heart.csv'\n",
        "data = pd.read_csv(data_path)\n",
        "\n",
        "# Display the first few rows of the dataset\n",
        "print(\"First few rows of the dataset:\")\n",
        "print(data.head())\n",
        "\n",
        "# Checking for missing values\n",
        "print(\"\\nMissing values in each column:\")\n",
        "print(data.isnull().sum())\n",
        "\n",
        "# Identify categorical columns\n",
        "categorical_columns = data.select_dtypes(include=['object']).columns\n",
        "print(\"\\nCategorical columns:\", categorical_columns)\n",
        "\n",
        "# Convert categorical columns to numerical using One-Hot Encoding\n",
        "data = pd.get_dummies(data, columns=categorical_columns, drop_first=True)\n",
        "\n",
        "# Splitting features (X) and target (y)\n",
        "X = data.drop(columns='HeartDisease')\n",
        "y = data['HeartDisease']\n",
        "\n",
        "# Standardizing the features (important for LSTM)\n",
        "from sklearn.preprocessing import StandardScaler\n",
        "scaler = StandardScaler()\n",
        "X_scaled = scaler.fit_transform(X)\n",
        "\n",
        "# Confirm the transformed data\n",
        "print(\"\\nTransformed feature matrix shape:\", X_scaled.shape)\n",
        "print(\"Transformed feature matrix sample:\\n\", X_scaled[:5])\n"
      ],
      "metadata": {
        "colab": {
          "base_uri": "https://localhost:8080/"
        },
        "id": "7XxIA7KZRvNi",
        "outputId": "fe13b5f8-54c1-4d43-e1ea-d0050d1f569a"
      },
      "execution_count": 4,
      "outputs": [
        {
          "output_type": "stream",
          "name": "stdout",
          "text": [
            "First few rows of the dataset:\n",
            "   Age Sex ChestPainType  RestingBP  Cholesterol  FastingBS RestingECG  MaxHR  \\\n",
            "0   40   M           ATA        140          289          0     Normal    172   \n",
            "1   49   F           NAP        160          180          0     Normal    156   \n",
            "2   37   M           ATA        130          283          0         ST     98   \n",
            "3   48   F           ASY        138          214          0     Normal    108   \n",
            "4   54   M           NAP        150          195          0     Normal    122   \n",
            "\n",
            "  ExerciseAngina  Oldpeak ST_Slope  HeartDisease  \n",
            "0              N      0.0       Up             0  \n",
            "1              N      1.0     Flat             1  \n",
            "2              N      0.0       Up             0  \n",
            "3              Y      1.5     Flat             1  \n",
            "4              N      0.0       Up             0  \n",
            "\n",
            "Missing values in each column:\n",
            "Age               0\n",
            "Sex               0\n",
            "ChestPainType     0\n",
            "RestingBP         0\n",
            "Cholesterol       0\n",
            "FastingBS         0\n",
            "RestingECG        0\n",
            "MaxHR             0\n",
            "ExerciseAngina    0\n",
            "Oldpeak           0\n",
            "ST_Slope          0\n",
            "HeartDisease      0\n",
            "dtype: int64\n",
            "\n",
            "Categorical columns: Index(['Sex', 'ChestPainType', 'RestingECG', 'ExerciseAngina', 'ST_Slope'], dtype='object')\n",
            "\n",
            "Transformed feature matrix shape: (918, 15)\n",
            "Transformed feature matrix sample:\n",
            " [[-1.4331398   0.41090889  0.82507026 -0.55134134  1.38292822 -0.83243239\n",
            "   0.51595242  2.07517671 -0.53283777 -0.22967867  0.81427482 -0.49044933\n",
            "  -0.8235563  -1.00218103  1.15067399]\n",
            " [-0.47848359  1.49175234 -0.17196105 -0.55134134  0.75415714  0.10566353\n",
            "  -1.93816322 -0.48188667  1.87674385 -0.22967867  0.81427482 -0.49044933\n",
            "  -0.8235563   0.99782372 -0.86905588]\n",
            " [-1.75135854 -0.12951283  0.7701878  -0.55134134 -1.52513802 -0.83243239\n",
            "   0.51595242  2.07517671 -0.53283777 -0.22967867 -1.22808661  2.03894663\n",
            "  -0.8235563  -1.00218103  1.15067399]\n",
            " [-0.5845565   0.30282455  0.13903954 -0.55134134 -1.13215609  0.57471149\n",
            "  -1.93816322 -0.48188667 -0.53283777 -0.22967867  0.81427482 -0.49044933\n",
            "   1.21424608  0.99782372 -0.86905588]\n",
            " [ 0.05188098  0.95133062 -0.0347549  -0.55134134 -0.5819814  -0.83243239\n",
            "   0.51595242 -0.48188667  1.87674385 -0.22967867  0.81427482 -0.49044933\n",
            "  -0.8235563  -1.00218103  1.15067399]]\n"
          ]
        }
      ]
    },
    {
      "cell_type": "markdown",
      "source": [
        "#Step 4: Implementing k-Fold Cross-Validation\n",
        "We'll set up k-fold cross-validation with 5 splits."
      ],
      "metadata": {
        "id": "4F0WOYx4S7e9"
      }
    },
    {
      "cell_type": "code",
      "source": [
        "# Define k-fold cross-validation\n",
        "kf = KFold(n_splits=5, shuffle=True, random_state=42)\n"
      ],
      "metadata": {
        "id": "9axackKYRuiS"
      },
      "execution_count": 5,
      "outputs": []
    },
    {
      "cell_type": "markdown",
      "source": [
        "#Step 5: Model 1 - Random Forest Classifier\n",
        "We'll implement a Random Forest classifier and evaluate it using k-fold cross-validation."
      ],
      "metadata": {
        "id": "nGlyCKmATEXj"
      }
    },
    {
      "cell_type": "code",
      "source": [
        "metrics_rf = []\n",
        "\n",
        "for train_index, test_index in kf.split(X_scaled):\n",
        "    # Splitting data into training and testing sets\n",
        "    X_train, X_test = X_scaled[train_index], X_scaled[test_index]\n",
        "    y_train, y_test = y.iloc[train_index], y.iloc[test_index]\n",
        "\n",
        "    # Initialize and train the Random Forest model\n",
        "    rf_model = RandomForestClassifier(n_estimators=100, random_state=42)\n",
        "    rf_model.fit(X_train, y_train)\n",
        "\n",
        "    # Make predictions\n",
        "    y_pred = rf_model.predict(X_test)\n",
        "    y_pred_proba = rf_model.predict_proba(X_test)[:, 1]\n",
        "\n",
        "    # Evaluate model performance\n",
        "    accuracy = accuracy_score(y_test, y_pred)\n",
        "    precision = precision_score(y_test, y_pred)\n",
        "    recall = recall_score(y_test, y_pred)\n",
        "    f1 = f1_score(y_test, y_pred)\n",
        "    roc_auc = roc_auc_score(y_test, y_pred_proba)\n",
        "\n",
        "    # Store metrics\n",
        "    metrics_rf.append([accuracy, precision, recall, f1, roc_auc])\n",
        "\n",
        "# Convert to DataFrame for easy viewing\n",
        "metrics_rf_df = pd.DataFrame(metrics_rf, columns=['Accuracy', 'Precision', 'Recall', 'F1-Score', 'ROC AUC'])\n",
        "print(\"Random Forest Performance:\\n\", metrics_rf_df.mean())\n"
      ],
      "metadata": {
        "colab": {
          "base_uri": "https://localhost:8080/"
        },
        "id": "73rgOi0ERuNJ",
        "outputId": "b14feb58-4f15-4adc-d584-723658240b7c"
      },
      "execution_count": 6,
      "outputs": [
        {
          "output_type": "stream",
          "name": "stdout",
          "text": [
            "Random Forest Performance:\n",
            " Accuracy     0.870331\n",
            "Precision    0.867210\n",
            "Recall       0.905575\n",
            "F1-Score     0.885091\n",
            "ROC AUC      0.929521\n",
            "dtype: float64\n"
          ]
        }
      ]
    },
    {
      "cell_type": "markdown",
      "source": [
        "#Step 6: Model 2 - LSTM for Sequence Classification\n",
        "Next, we'll reshape the data for LSTM and evaluate it using k-fold cross-validation."
      ],
      "metadata": {
        "id": "LH2EgVOMTTU6"
      }
    },
    {
      "cell_type": "code",
      "source": [
        "# Reshape the data for LSTM (samples, timesteps, features)\n",
        "X_lstm = X_scaled.reshape(X_scaled.shape[0], 1, X_scaled.shape[1])\n",
        "\n",
        "metrics_lstm = []\n",
        "\n",
        "for train_index, test_index in kf.split(X_lstm):\n",
        "    # Splitting data into training and testing sets\n",
        "    X_train, X_test = X_lstm[train_index], X_lstm[test_index]\n",
        "    y_train, y_test = y.iloc[train_index], y.iloc[test_index]\n",
        "\n",
        "    # Build LSTM Model\n",
        "    lstm_model = Sequential()\n",
        "    lstm_model.add(LSTM(50, input_shape=(X_train.shape[1], X_train.shape[2]), activation='relu'))\n",
        "    lstm_model.add(Dense(1, activation='sigmoid'))\n",
        "\n",
        "    lstm_model.compile(optimizer='adam', loss='binary_crossentropy', metrics=['accuracy'])\n",
        "    lstm_model.fit(X_train, y_train, epochs=10, batch_size=16, verbose=0)\n",
        "\n",
        "    # Make predictions\n",
        "    y_pred_proba = lstm_model.predict(X_test).flatten()\n",
        "    y_pred = (y_pred_proba > 0.5).astype(int)\n",
        "\n",
        "    # Evaluate model performance\n",
        "    accuracy = accuracy_score(y_test, y_pred)\n",
        "    precision = precision_score(y_test, y_pred)\n",
        "    recall = recall_score(y_test, y_pred)\n",
        "    f1 = f1_score(y_test, y_pred)\n",
        "    roc_auc = roc_auc_score(y_test, y_pred_proba)\n",
        "\n",
        "    # Store metrics\n",
        "    metrics_lstm.append([accuracy, precision, recall, f1, roc_auc])\n",
        "\n",
        "# Convert to DataFrame for easy viewing\n",
        "metrics_lstm_df = pd.DataFrame(metrics_lstm, columns=['Accuracy', 'Precision', 'Recall', 'F1-Score', 'ROC AUC'])\n",
        "print(\"LSTM Performance:\\n\", metrics_lstm_df.mean())\n"
      ],
      "metadata": {
        "colab": {
          "base_uri": "https://localhost:8080/"
        },
        "id": "EesXfiY5Rt9Q",
        "outputId": "ac3b525e-2c75-4d77-aec4-257cbcd0bd93"
      },
      "execution_count": 7,
      "outputs": [
        {
          "output_type": "stream",
          "name": "stderr",
          "text": [
            "/usr/local/lib/python3.10/dist-packages/keras/src/layers/rnn/rnn.py:204: UserWarning: Do not pass an `input_shape`/`input_dim` argument to a layer. When using Sequential models, prefer using an `Input(shape)` object as the first layer in the model instead.\n",
            "  super().__init__(**kwargs)\n"
          ]
        },
        {
          "output_type": "stream",
          "name": "stdout",
          "text": [
            "\u001b[1m6/6\u001b[0m \u001b[32m━━━━━━━━━━━━━━━━━━━━\u001b[0m\u001b[37m\u001b[0m \u001b[1m0s\u001b[0m 30ms/step\n"
          ]
        },
        {
          "output_type": "stream",
          "name": "stderr",
          "text": [
            "/usr/local/lib/python3.10/dist-packages/keras/src/layers/rnn/rnn.py:204: UserWarning: Do not pass an `input_shape`/`input_dim` argument to a layer. When using Sequential models, prefer using an `Input(shape)` object as the first layer in the model instead.\n",
            "  super().__init__(**kwargs)\n"
          ]
        },
        {
          "output_type": "stream",
          "name": "stdout",
          "text": [
            "\u001b[1m6/6\u001b[0m \u001b[32m━━━━━━━━━━━━━━━━━━━━\u001b[0m\u001b[37m\u001b[0m \u001b[1m0s\u001b[0m 32ms/step\n"
          ]
        },
        {
          "output_type": "stream",
          "name": "stderr",
          "text": [
            "/usr/local/lib/python3.10/dist-packages/keras/src/layers/rnn/rnn.py:204: UserWarning: Do not pass an `input_shape`/`input_dim` argument to a layer. When using Sequential models, prefer using an `Input(shape)` object as the first layer in the model instead.\n",
            "  super().__init__(**kwargs)\n",
            "WARNING:tensorflow:5 out of the last 13 calls to <function TensorFlowTrainer.make_predict_function.<locals>.one_step_on_data_distributed at 0x786b4c016050> triggered tf.function retracing. Tracing is expensive and the excessive number of tracings could be due to (1) creating @tf.function repeatedly in a loop, (2) passing tensors with different shapes, (3) passing Python objects instead of tensors. For (1), please define your @tf.function outside of the loop. For (2), @tf.function has reduce_retracing=True option that can avoid unnecessary retracing. For (3), please refer to https://www.tensorflow.org/guide/function#controlling_retracing and https://www.tensorflow.org/api_docs/python/tf/function for  more details.\n"
          ]
        },
        {
          "output_type": "stream",
          "name": "stdout",
          "text": [
            "\u001b[1m6/6\u001b[0m \u001b[32m━━━━━━━━━━━━━━━━━━━━\u001b[0m\u001b[37m\u001b[0m \u001b[1m0s\u001b[0m 33ms/step\n"
          ]
        },
        {
          "output_type": "stream",
          "name": "stderr",
          "text": [
            "/usr/local/lib/python3.10/dist-packages/keras/src/layers/rnn/rnn.py:204: UserWarning: Do not pass an `input_shape`/`input_dim` argument to a layer. When using Sequential models, prefer using an `Input(shape)` object as the first layer in the model instead.\n",
            "  super().__init__(**kwargs)\n",
            "WARNING:tensorflow:5 out of the last 13 calls to <function TensorFlowTrainer.make_predict_function.<locals>.one_step_on_data_distributed at 0x786b3fe7c0d0> triggered tf.function retracing. Tracing is expensive and the excessive number of tracings could be due to (1) creating @tf.function repeatedly in a loop, (2) passing tensors with different shapes, (3) passing Python objects instead of tensors. For (1), please define your @tf.function outside of the loop. For (2), @tf.function has reduce_retracing=True option that can avoid unnecessary retracing. For (3), please refer to https://www.tensorflow.org/guide/function#controlling_retracing and https://www.tensorflow.org/api_docs/python/tf/function for  more details.\n"
          ]
        },
        {
          "output_type": "stream",
          "name": "stdout",
          "text": [
            "\u001b[1m6/6\u001b[0m \u001b[32m━━━━━━━━━━━━━━━━━━━━\u001b[0m\u001b[37m\u001b[0m \u001b[1m0s\u001b[0m 35ms/step\n"
          ]
        },
        {
          "output_type": "stream",
          "name": "stderr",
          "text": [
            "/usr/local/lib/python3.10/dist-packages/keras/src/layers/rnn/rnn.py:204: UserWarning: Do not pass an `input_shape`/`input_dim` argument to a layer. When using Sequential models, prefer using an `Input(shape)` object as the first layer in the model instead.\n",
            "  super().__init__(**kwargs)\n"
          ]
        },
        {
          "output_type": "stream",
          "name": "stdout",
          "text": [
            "\u001b[1m6/6\u001b[0m \u001b[32m━━━━━━━━━━━━━━━━━━━━\u001b[0m\u001b[37m\u001b[0m \u001b[1m0s\u001b[0m 33ms/step\n",
            "LSTM Performance:\n",
            " Accuracy     0.870325\n",
            "Precision    0.869805\n",
            "Recall       0.903769\n",
            "F1-Score     0.884920\n",
            "ROC AUC      0.935169\n",
            "dtype: float64\n"
          ]
        }
      ]
    },
    {
      "cell_type": "markdown",
      "source": [
        "#Step 7: Visualize the Performance Metrics\n",
        "Let's visualize the performance metrics for both models using bar plots."
      ],
      "metadata": {
        "id": "8kpPLD1_Tngp"
      }
    },
    {
      "cell_type": "code",
      "source": [
        "# Visualizing the metrics\n",
        "fig, ax = plt.subplots(1, 2, figsize=(12, 5))\n",
        "\n",
        "# Random Forest Metrics\n",
        "metrics_rf_df.mean().plot(kind='bar', ax=ax[0], color='skyblue')\n",
        "ax[0].set_title(\"Random Forest Performance\")\n",
        "ax[0].set_ylim(0, 1)\n",
        "ax[0].set_ylabel('Score')\n",
        "\n",
        "# LSTM Metrics\n",
        "metrics_lstm_df.mean().plot(kind='bar', ax=ax[1], color='orange')\n",
        "ax[1].set_title(\"LSTM Performance\")\n",
        "ax[1].set_ylim(0, 1)\n",
        "ax[1].set_ylabel('Score')\n",
        "\n",
        "plt.tight_layout()\n",
        "plt.show()\n"
      ],
      "metadata": {
        "colab": {
          "base_uri": "https://localhost:8080/",
          "height": 507
        },
        "id": "QNSSC-NPRtpt",
        "outputId": "69ff5fb6-9418-492b-cb9f-ebf7b6fdf979"
      },
      "execution_count": 8,
      "outputs": [
        {
          "output_type": "display_data",
          "data": {
            "text/plain": [
              "<Figure size 1200x500 with 2 Axes>"
            ],
            "image/png": "[encoded data removed]"
          },
          "metadata": {}
        }
      ]
    },
    {
      "cell_type": "markdown",
      "source": [
        "#Step 8: Confusion Matrix and ROC Curve"
      ],
      "metadata": {
        "id": "aoMid0ycTx4Q"
      }
    },
    {
      "cell_type": "code",
      "source": [
        "# If X_test was reshaped for LSTM, reshape it back to 2D for RandomForest\n",
        "if len(X_test.shape) == 3:\n",
        "    X_test_rf = X_test.reshape(X_test.shape[0], -1)  # Convert to 2D\n",
        "else:\n",
        "    X_test_rf = X_test\n",
        "\n",
        "# Confusion Matrix for Random Forest\n",
        "rf_y_pred = rf_model.predict(X_test_rf)\n",
        "sns.heatmap(confusion_matrix(y_test, rf_y_pred), annot=True, fmt='d', cmap='Blues')\n",
        "plt.title('Confusion Matrix - Random Forest')\n",
        "plt.xlabel('Predicted')\n",
        "plt.ylabel('Actual')\n",
        "plt.show()\n",
        "\n",
        "# ROC Curve for LSTM\n",
        "fpr, tpr, _ = roc_curve(y_test, y_pred_proba)\n",
        "plt.plot(fpr, tpr, label=f'ROC AUC = {roc_auc:.2f}')\n",
        "plt.plot([0, 1], [0, 1], linestyle='--')\n",
        "plt.title('ROC Curve - LSTM')\n",
        "plt.xlabel('False Positive Rate')\n",
        "plt.ylabel('True Positive Rate')\n",
        "plt.legend()\n",
        "plt.show()\n"
      ],
      "metadata": {
        "colab": {
          "base_uri": "https://localhost:8080/",
          "height": 927
        },
        "id": "cJuyyos6RthR",
        "outputId": "04743f55-8dbd-417c-d03b-fe54e07487e2"
      },
      "execution_count": 10,
      "outputs": [
        {
          "output_type": "display_data",
          "data": {
            "text/plain": [
              "<Figure size 640x480 with 2 Axes>"
            ],
            "image/png": "[encoded data removed]"
          },
          "metadata": {}
        },
        {
          "output_type": "display_data",
          "data": {
            "text/plain": [
              "<Figure size 640x480 with 1 Axes>"
            ],
            "image/png": "[encoded data removed]"
          },
          "metadata": {}
        }
      ]
    },
    {
      "cell_type": "code",
      "source": [],
      "metadata": {
        "id": "L4ZvV8_ORtQ6"
      },
      "execution_count": null,
      "outputs": []
    }
  ]
}